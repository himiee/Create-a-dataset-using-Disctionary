{
 "cells": [
  {
   "cell_type": "markdown",
   "id": "21760564",
   "metadata": {},
   "source": [
    "# Pokemon"
   ]
  },
  {
   "cell_type": "markdown",
   "id": "b2900163",
   "metadata": {},
   "source": [
    "### Introduction:\n",
    "\n",
    "This time you will create the data."
   ]
  },
  {
   "cell_type": "markdown",
   "id": "42a3a329",
   "metadata": {},
   "source": [
    "### Step 1. Import necessary Libraries"
   ]
  },
  {
   "cell_type": "code",
   "execution_count": 2,
   "id": "c96cb779",
   "metadata": {},
   "outputs": [],
   "source": [
    "import numpy as np\n",
    "import pandas as pd"
   ]
  },
  {
   "cell_type": "markdown",
   "id": "09c0b537",
   "metadata": {},
   "source": [
    "### Step 2. Create a data dictionary that looks like Dataframe below"
   ]
  },
  {
   "cell_type": "code",
   "execution_count": 10,
   "id": "6d1c3b05",
   "metadata": {},
   "outputs": [],
   "source": [
    "dict = {'Evoulution':['Ivasaur','Charmeleon','Wartortle','Metapood'],\n",
    "        'HP': [45,39,44,45],\n",
    "        'Name': ['Balbasaur','Charmendar','Squirtle','Caterpie'],\n",
    "        'Pokedex':['Yes','No','Yes','No'],\n",
    "        'Type': ['Grass', 'Fire', 'Water', 'Bug']}"
   ]
  },
  {
   "cell_type": "markdown",
   "id": "736fbc93",
   "metadata": {},
   "source": [
    "### Step 3. Assign it to a variable called Pokemon"
   ]
  },
  {
   "cell_type": "code",
   "execution_count": 11,
   "id": "34325395",
   "metadata": {
    "scrolled": true
   },
   "outputs": [
    {
     "data": {
      "text/html": [
       "<div>\n",
       "<style scoped>\n",
       "    .dataframe tbody tr th:only-of-type {\n",
       "        vertical-align: middle;\n",
       "    }\n",
       "\n",
       "    .dataframe tbody tr th {\n",
       "        vertical-align: top;\n",
       "    }\n",
       "\n",
       "    .dataframe thead th {\n",
       "        text-align: right;\n",
       "    }\n",
       "</style>\n",
       "<table border=\"1\" class=\"dataframe\">\n",
       "  <thead>\n",
       "    <tr style=\"text-align: right;\">\n",
       "      <th></th>\n",
       "      <th>Evoulution</th>\n",
       "      <th>HP</th>\n",
       "      <th>Name</th>\n",
       "      <th>Pokedex</th>\n",
       "      <th>Type</th>\n",
       "    </tr>\n",
       "  </thead>\n",
       "  <tbody>\n",
       "    <tr>\n",
       "      <th>0</th>\n",
       "      <td>Ivasaur</td>\n",
       "      <td>45</td>\n",
       "      <td>Balbasaur</td>\n",
       "      <td>Yes</td>\n",
       "      <td>Grass</td>\n",
       "    </tr>\n",
       "    <tr>\n",
       "      <th>1</th>\n",
       "      <td>Charmeleon</td>\n",
       "      <td>39</td>\n",
       "      <td>Charmendar</td>\n",
       "      <td>No</td>\n",
       "      <td>Fire</td>\n",
       "    </tr>\n",
       "    <tr>\n",
       "      <th>2</th>\n",
       "      <td>Wartortle</td>\n",
       "      <td>44</td>\n",
       "      <td>Squirtle</td>\n",
       "      <td>Yes</td>\n",
       "      <td>Water</td>\n",
       "    </tr>\n",
       "    <tr>\n",
       "      <th>3</th>\n",
       "      <td>Metapood</td>\n",
       "      <td>45</td>\n",
       "      <td>Caterpie</td>\n",
       "      <td>No</td>\n",
       "      <td>Bug</td>\n",
       "    </tr>\n",
       "  </tbody>\n",
       "</table>\n",
       "</div>"
      ],
      "text/plain": [
       "   Evoulution  HP        Name Pokedex   Type\n",
       "0     Ivasaur  45   Balbasaur     Yes  Grass\n",
       "1  Charmeleon  39  Charmendar      No   Fire\n",
       "2   Wartortle  44    Squirtle     Yes  Water\n",
       "3    Metapood  45    Caterpie      No    Bug"
      ]
     },
     "execution_count": 11,
     "metadata": {},
     "output_type": "execute_result"
    }
   ],
   "source": [
    "pokemon = pd.DataFrame(dict)\n",
    "pokemon"
   ]
  },
  {
   "cell_type": "markdown",
   "id": "8cb09127",
   "metadata": {},
   "source": [
    "### Step 4. columns are not placed properly, reorder as Name, Type, HP, Evolution, Pokedex"
   ]
  },
  {
   "cell_type": "code",
   "execution_count": 12,
   "id": "19749609",
   "metadata": {},
   "outputs": [],
   "source": [
    "pokemon = pokemon.reindex(columns = ['Name','Type','HP','Evolution', 'Pokedex'])"
   ]
  },
  {
   "cell_type": "code",
   "execution_count": 13,
   "id": "ccbff070",
   "metadata": {},
   "outputs": [
    {
     "data": {
      "text/html": [
       "<div>\n",
       "<style scoped>\n",
       "    .dataframe tbody tr th:only-of-type {\n",
       "        vertical-align: middle;\n",
       "    }\n",
       "\n",
       "    .dataframe tbody tr th {\n",
       "        vertical-align: top;\n",
       "    }\n",
       "\n",
       "    .dataframe thead th {\n",
       "        text-align: right;\n",
       "    }\n",
       "</style>\n",
       "<table border=\"1\" class=\"dataframe\">\n",
       "  <thead>\n",
       "    <tr style=\"text-align: right;\">\n",
       "      <th></th>\n",
       "      <th>Name</th>\n",
       "      <th>Type</th>\n",
       "      <th>HP</th>\n",
       "      <th>Evolution</th>\n",
       "      <th>Pokedex</th>\n",
       "    </tr>\n",
       "  </thead>\n",
       "  <tbody>\n",
       "    <tr>\n",
       "      <th>0</th>\n",
       "      <td>Balbasaur</td>\n",
       "      <td>Grass</td>\n",
       "      <td>45</td>\n",
       "      <td>NaN</td>\n",
       "      <td>Yes</td>\n",
       "    </tr>\n",
       "    <tr>\n",
       "      <th>1</th>\n",
       "      <td>Charmendar</td>\n",
       "      <td>Fire</td>\n",
       "      <td>39</td>\n",
       "      <td>NaN</td>\n",
       "      <td>No</td>\n",
       "    </tr>\n",
       "    <tr>\n",
       "      <th>2</th>\n",
       "      <td>Squirtle</td>\n",
       "      <td>Water</td>\n",
       "      <td>44</td>\n",
       "      <td>NaN</td>\n",
       "      <td>Yes</td>\n",
       "    </tr>\n",
       "    <tr>\n",
       "      <th>3</th>\n",
       "      <td>Caterpie</td>\n",
       "      <td>Bug</td>\n",
       "      <td>45</td>\n",
       "      <td>NaN</td>\n",
       "      <td>No</td>\n",
       "    </tr>\n",
       "  </tbody>\n",
       "</table>\n",
       "</div>"
      ],
      "text/plain": [
       "         Name   Type  HP  Evolution Pokedex\n",
       "0   Balbasaur  Grass  45        NaN     Yes\n",
       "1  Charmendar   Fire  39        NaN      No\n",
       "2    Squirtle  Water  44        NaN     Yes\n",
       "3    Caterpie    Bug  45        NaN      No"
      ]
     },
     "execution_count": 13,
     "metadata": {},
     "output_type": "execute_result"
    }
   ],
   "source": [
    "pokemon"
   ]
  },
  {
   "cell_type": "markdown",
   "id": "2ac5f997",
   "metadata": {},
   "source": [
    "### Step 5. Add a column named as place and put any loaction"
   ]
  },
  {
   "cell_type": "code",
   "execution_count": 17,
   "id": "3ee3eb9a",
   "metadata": {},
   "outputs": [],
   "source": [
    "pokemon['Place'] = ['London', 'New York', 'Frankfurt', 'Sopot']"
   ]
  },
  {
   "cell_type": "code",
   "execution_count": 18,
   "id": "8c3f74e9",
   "metadata": {},
   "outputs": [
    {
     "data": {
      "text/html": [
       "<div>\n",
       "<style scoped>\n",
       "    .dataframe tbody tr th:only-of-type {\n",
       "        vertical-align: middle;\n",
       "    }\n",
       "\n",
       "    .dataframe tbody tr th {\n",
       "        vertical-align: top;\n",
       "    }\n",
       "\n",
       "    .dataframe thead th {\n",
       "        text-align: right;\n",
       "    }\n",
       "</style>\n",
       "<table border=\"1\" class=\"dataframe\">\n",
       "  <thead>\n",
       "    <tr style=\"text-align: right;\">\n",
       "      <th></th>\n",
       "      <th>Name</th>\n",
       "      <th>Type</th>\n",
       "      <th>HP</th>\n",
       "      <th>Evolution</th>\n",
       "      <th>Pokedex</th>\n",
       "      <th>place</th>\n",
       "      <th>Place</th>\n",
       "    </tr>\n",
       "  </thead>\n",
       "  <tbody>\n",
       "    <tr>\n",
       "      <th>0</th>\n",
       "      <td>Balbasaur</td>\n",
       "      <td>Grass</td>\n",
       "      <td>45</td>\n",
       "      <td>NaN</td>\n",
       "      <td>Yes</td>\n",
       "      <td>London</td>\n",
       "      <td>London</td>\n",
       "    </tr>\n",
       "    <tr>\n",
       "      <th>1</th>\n",
       "      <td>Charmendar</td>\n",
       "      <td>Fire</td>\n",
       "      <td>39</td>\n",
       "      <td>NaN</td>\n",
       "      <td>No</td>\n",
       "      <td>New York</td>\n",
       "      <td>New York</td>\n",
       "    </tr>\n",
       "    <tr>\n",
       "      <th>2</th>\n",
       "      <td>Squirtle</td>\n",
       "      <td>Water</td>\n",
       "      <td>44</td>\n",
       "      <td>NaN</td>\n",
       "      <td>Yes</td>\n",
       "      <td>Frankfurt</td>\n",
       "      <td>Frankfurt</td>\n",
       "    </tr>\n",
       "    <tr>\n",
       "      <th>3</th>\n",
       "      <td>Caterpie</td>\n",
       "      <td>Bug</td>\n",
       "      <td>45</td>\n",
       "      <td>NaN</td>\n",
       "      <td>No</td>\n",
       "      <td>Sopot</td>\n",
       "      <td>Sopot</td>\n",
       "    </tr>\n",
       "  </tbody>\n",
       "</table>\n",
       "</div>"
      ],
      "text/plain": [
       "         Name   Type  HP  Evolution Pokedex      place      Place\n",
       "0   Balbasaur  Grass  45        NaN     Yes     London     London\n",
       "1  Charmendar   Fire  39        NaN      No   New York   New York\n",
       "2    Squirtle  Water  44        NaN     Yes  Frankfurt  Frankfurt\n",
       "3    Caterpie    Bug  45        NaN      No      Sopot      Sopot"
      ]
     },
     "execution_count": 18,
     "metadata": {},
     "output_type": "execute_result"
    }
   ],
   "source": [
    "pokemon"
   ]
  },
  {
   "cell_type": "markdown",
   "id": "8d8b3f28",
   "metadata": {},
   "source": [
    "### Step 6. Present the dtype of each column "
   ]
  },
  {
   "cell_type": "code",
   "execution_count": 22,
   "id": "320a82a1",
   "metadata": {},
   "outputs": [
    {
     "data": {
      "text/plain": [
       "Name          object\n",
       "Type          object\n",
       "HP             int64\n",
       "Evolution    float64\n",
       "Pokedex       object\n",
       "place         object\n",
       "Place         object\n",
       "dtype: object"
      ]
     },
     "execution_count": 22,
     "metadata": {},
     "output_type": "execute_result"
    }
   ],
   "source": [
    "pokemon.dtypes"
   ]
  },
  {
   "cell_type": "code",
   "execution_count": null,
   "id": "6b724cf6",
   "metadata": {},
   "outputs": [],
   "source": []
  }
 ],
 "metadata": {
  "kernelspec": {
   "display_name": "Python 3 (ipykernel)",
   "language": "python",
   "name": "python3"
  },
  "language_info": {
   "codemirror_mode": {
    "name": "ipython",
    "version": 3
   },
   "file_extension": ".py",
   "mimetype": "text/x-python",
   "name": "python",
   "nbconvert_exporter": "python",
   "pygments_lexer": "ipython3",
   "version": "3.9.12"
  }
 },
 "nbformat": 4,
 "nbformat_minor": 5
}
